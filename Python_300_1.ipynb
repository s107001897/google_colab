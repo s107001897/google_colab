{
  "nbformat": 4,
  "nbformat_minor": 0,
  "metadata": {
    "colab": {
      "name": "Python_300_1.ipynb",
      "version": "0.3.2",
      "provenance": [],
      "include_colab_link": true
    },
    "kernelspec": {
      "name": "python2",
      "display_name": "Python 2"
    }
  },
  "cells": [
    {
      "cell_type": "markdown",
      "metadata": {
        "id": "view-in-github",
        "colab_type": "text"
      },
      "source": [
        "<a href=\"https://colab.research.google.com/github/s107001897/google_colab/blob/master/Python_300_1.ipynb\" target=\"_parent\"><img src=\"https://colab.research.google.com/assets/colab-badge.svg\" alt=\"Open In Colab\"/></a>"
      ]
    },
    {
      "metadata": {
        "id": "U68oxY9f0AZs",
        "colab_type": "text"
      },
      "cell_type": "markdown",
      "source": [
        "###chaptter 1.1\n",
        "Welcome.py"
      ]
    },
    {
      "metadata": {
        "id": "xPAVUsjeysry",
        "colab_type": "code",
        "colab": {
          "base_uri": "https://localhost:8080/",
          "height": 51
        },
        "outputId": "31533388-38c9-4c18-d0aa-bfa02dfd70d3"
      },
      "cell_type": "code",
      "source": [
        "print(\"Welcome to Python\")\n",
        "print(\"Python is fun\")\n",
        "\n",
        "##4070E060"
      ],
      "execution_count": 7,
      "outputs": [
        {
          "output_type": "stream",
          "text": [
            "Welcome to Python\n",
            "Python is fun\n"
          ],
          "name": "stdout"
        }
      ]
    },
    {
      "metadata": {
        "id": "pCrScHlM5Ywc",
        "colab_type": "text"
      },
      "cell_type": "markdown",
      "source": [
        "###chaptter 1.2\n",
        "WelcomeWithThreeMessages.py"
      ]
    },
    {
      "metadata": {
        "id": "mhH4lTvX5EyE",
        "colab_type": "code",
        "colab": {
          "base_uri": "https://localhost:8080/",
          "height": 68
        },
        "outputId": "53a11465-0f93-4d7a-ce1c-45772bdaf75b"
      },
      "cell_type": "code",
      "source": [
        "print(\"Welcome to Python\")\n",
        "print(\"Python is fun\")\n",
        "print(\"Problem Driven\")  \n",
        "\n",
        "##4070E060"
      ],
      "execution_count": 8,
      "outputs": [
        {
          "output_type": "stream",
          "text": [
            "Welcome to Python\n",
            "Python is fun\n",
            "Problem Driven\n"
          ],
          "name": "stdout"
        }
      ]
    },
    {
      "metadata": {
        "id": "X57tslyc5trc",
        "colab_type": "text"
      },
      "cell_type": "markdown",
      "source": [
        "###chaptter 1.3\n",
        "ComputeExpression.py"
      ]
    },
    {
      "metadata": {
        "id": "u2XJbWMx55fU",
        "colab_type": "code",
        "colab": {
          "base_uri": "https://localhost:8080/",
          "height": 34
        },
        "outputId": "6dd3f188-379c-43e8-ad5a-75f6a9bd3ee6"
      },
      "cell_type": "code",
      "source": [
        "print((10.5 + 2 * 3) / (45 - 3.5))\n",
        "##4070E060"
      ],
      "execution_count": 10,
      "outputs": [
        {
          "output_type": "stream",
          "text": [
            "0.397590361446\n"
          ],
          "name": "stdout"
        }
      ]
    },
    {
      "metadata": {
        "id": "AiMUUhq06KEE",
        "colab_type": "text"
      },
      "cell_type": "markdown",
      "source": [
        "###chaptter 1.4\n",
        "\n",
        "ShowLogicErrors.py"
      ]
    },
    {
      "metadata": {
        "id": "Uzwey5aV6XKc",
        "colab_type": "code",
        "colab": {
          "base_uri": "https://localhost:8080/",
          "height": 51
        },
        "outputId": "c6f8d9e8-9523-44fe-a1d5-189dde744bb4"
      },
      "cell_type": "code",
      "source": [
        "print(\"Fahrenheit 35 is Celsius degree \")\n",
        "print(5 / 9 * (35 - 32))\n",
        "##4070E060"
      ],
      "execution_count": 11,
      "outputs": [
        {
          "output_type": "stream",
          "text": [
            "Fahrenheit 35 is Celsius degree \n",
            "0\n"
          ],
          "name": "stdout"
        }
      ]
    },
    {
      "metadata": {
        "id": "r__oEAos6w9s",
        "colab_type": "code",
        "colab": {}
      },
      "cell_type": "code",
      "source": [
        ""
      ],
      "execution_count": 0,
      "outputs": []
    }
  ]
}