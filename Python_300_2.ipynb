{
  "nbformat": 4,
  "nbformat_minor": 0,
  "metadata": {
    "colab": {
      "name": "Python_300_2.ipynb",
      "version": "0.3.2",
      "provenance": [],
      "collapsed_sections": [],
      "include_colab_link": true
    },
    "kernelspec": {
      "name": "python3",
      "display_name": "Python 3"
    }
  },
  "cells": [
    {
      "cell_type": "markdown",
      "metadata": {
        "id": "view-in-github",
        "colab_type": "text"
      },
      "source": [
        "<a href=\"https://colab.research.google.com/github/s107001897/google_colab/blob/master/Python_300_2.ipynb\" target=\"_parent\"><img src=\"https://colab.research.google.com/assets/colab-badge.svg\" alt=\"Open In Colab\"/></a>"
      ]
    },
    {
      "metadata": {
        "id": "Z7S-c3kZ9Ek1",
        "colab_type": "text"
      },
      "cell_type": "markdown",
      "source": [
        "###chapter 2.1\n",
        "ComputeArea.py"
      ]
    },
    {
      "metadata": {
        "id": "GVvh7LWC9Baf",
        "colab_type": "code",
        "colab": {
          "base_uri": "https://localhost:8080/",
          "height": 35
        },
        "outputId": "d5b1b173-79e7-4226-af5b-a9990ea39fba"
      },
      "cell_type": "code",
      "source": [
        "# Assign a radius\n",
        "radius = 20 # radius is now 20\n",
        "\n",
        "# Compute area\n",
        "area = radius * radius * 3.14159\n",
        "\n",
        "# Display results\n",
        "print(\"The area for the circle of radius\", radius, \"is\", area)\n",
        "\n",
        "##4070E060"
      ],
      "execution_count": 1,
      "outputs": [
        {
          "output_type": "stream",
          "text": [
            "The area for the circle of radius 20 is 1256.636\n"
          ],
          "name": "stdout"
        }
      ]
    },
    {
      "metadata": {
        "id": "KfAVBrKD9-S8",
        "colab_type": "text"
      },
      "cell_type": "markdown",
      "source": [
        "###chapter 2.2\n",
        "ComputeAreaWithConsoleInput.py"
      ]
    },
    {
      "metadata": {
        "id": "B9Pdrclj-aqc",
        "colab_type": "code",
        "colab": {
          "base_uri": "https://localhost:8080/",
          "height": 54
        },
        "outputId": "10396933-f1ad-49e5-d17b-44eeefecb3f2"
      },
      "cell_type": "code",
      "source": [
        "# Prompt the user to enter a radius\n",
        "radius = eval(input(\"Enter a number for radius: \"))\n",
        "\n",
        "# Compute area\n",
        "area = radius * radius * 3.14159\n",
        "\n",
        "# Display results\n",
        "print(\"The area for the circle of radius\", radius, \"is\", area)\n",
        "\n",
        "##4070E060"
      ],
      "execution_count": 2,
      "outputs": [
        {
          "output_type": "stream",
          "text": [
            "Enter a number for radius: 50\n",
            "The area for the circle of radius 50 is 7853.974999999999\n"
          ],
          "name": "stdout"
        }
      ]
    },
    {
      "metadata": {
        "id": "XOAGfw2o-hk8",
        "colab_type": "text"
      },
      "cell_type": "markdown",
      "source": [
        "###chapter 2.3\n",
        "ComputeAverage.py"
      ]
    },
    {
      "metadata": {
        "id": "Yf0vXvJ2-n_c",
        "colab_type": "code",
        "colab": {
          "base_uri": "https://localhost:8080/",
          "height": 90
        },
        "outputId": "9c0df174-9ded-4614-d795-594abbe65a2e"
      },
      "cell_type": "code",
      "source": [
        "# Prompt the user to enter three numbers\n",
        "number1 = eval(input(\"Enter the first number: \"))\n",
        "number2 = eval(input(\"Enter the second number: \"))\n",
        "number3 = eval(input(\"Enter the third number: \"))\n",
        "\n",
        "# Compute average\n",
        "average = (number1 + number2 + number3) / 3\n",
        "\n",
        "# Display result\n",
        "print(\"The average of\", number1, number2, number3, \n",
        "    \"is\", average)\n",
        "\n",
        "##4070E060\n",
        "\n"
      ],
      "execution_count": 3,
      "outputs": [
        {
          "output_type": "stream",
          "text": [
            "Enter the first number: 50\n",
            "Enter the second number: 60\n",
            "Enter the third number: 90\n",
            "The average of 50 60 90 is 66.66666666666667\n"
          ],
          "name": "stdout"
        }
      ]
    },
    {
      "metadata": {
        "id": "BGuJ-l4P_WWc",
        "colab_type": "text"
      },
      "cell_type": "markdown",
      "source": [
        "###chapter 2.4\n",
        "ComputeAverageWithSimultaneousAssignment.py"
      ]
    },
    {
      "metadata": {
        "id": "7tCnufEj_frc",
        "colab_type": "code",
        "colab": {
          "base_uri": "https://localhost:8080/",
          "height": 54
        },
        "outputId": "0ddaa3c3-8aec-48e4-d897-bb9eb3a7df37"
      },
      "cell_type": "code",
      "source": [
        "# Prompt the user to enter three numbers\n",
        "number1, number2, number3 = eval(input(\n",
        "  \"Enter three numbers separated by commas: \"))\n",
        "\n",
        "# Compute average\n",
        "average = (number1 + number2 + number3) / 3\n",
        "\n",
        "# Display result\n",
        "print(\"The average of\", number1, number2, number3,\n",
        "    \"is\", average)\n",
        "\n",
        "##4070E060\n"
      ],
      "execution_count": 4,
      "outputs": [
        {
          "output_type": "stream",
          "text": [
            "Enter three numbers separated by commas: 10,30,60\n",
            "The average of 10 30 60 is 33.333333333333336\n"
          ],
          "name": "stdout"
        }
      ]
    },
    {
      "metadata": {
        "id": "OVmEQBczAcY1",
        "colab_type": "text"
      },
      "cell_type": "markdown",
      "source": [
        "###chapter 2.5\n",
        "DisplayTime.py"
      ]
    },
    {
      "metadata": {
        "id": "2LiLd_AMAmBE",
        "colab_type": "code",
        "colab": {
          "base_uri": "https://localhost:8080/",
          "height": 54
        },
        "outputId": "fc8b2c71-2c8c-4fa0-e28c-3cf17457dbae"
      },
      "cell_type": "code",
      "source": [
        "# Prompt the user for input\n",
        "seconds = eval(input(\"Enter an integer for seconds: \"))\n",
        "\n",
        "# Get minutes and remaining seconds\n",
        "minutes = seconds // 60     # Find minutes in seconds\n",
        "remainingSeconds = seconds % 60   # Seconds remaining\n",
        "print(seconds, \"seconds is\", minutes,  \n",
        "  \"minutes and\", remainingSeconds, \"seconds\")\n",
        "\n",
        "##4070E060"
      ],
      "execution_count": 5,
      "outputs": [
        {
          "output_type": "stream",
          "text": [
            "Enter an integer for seconds: 90\n",
            "90 seconds is 1 minutes and 30 seconds\n"
          ],
          "name": "stdout"
        }
      ]
    },
    {
      "metadata": {
        "id": "8-kZrDhk_WXo",
        "colab_type": "text"
      },
      "cell_type": "markdown",
      "source": [
        "###chapter 2.6\n",
        "SalesTax.py"
      ]
    },
    {
      "metadata": {
        "id": "nlabNIYXBlsc",
        "colab_type": "code",
        "colab": {
          "base_uri": "https://localhost:8080/",
          "height": 54
        },
        "outputId": "7118ba7e-64f9-442b-8f53-c3e27d578709"
      },
      "cell_type": "code",
      "source": [
        "# Prompt the user for input\n",
        "purchaseAmount = eval(input(\"Enter purchase amount: \"))\n",
        "\n",
        "# Compute sales tax\n",
        "tax = purchaseAmount * 0.06\n",
        "\n",
        "# Display tax amount with two digits after decimal point\n",
        "print(\"Sales tax is\", int(tax * 100) / 100.0)\n",
        "\n",
        "##4070E060"
      ],
      "execution_count": 6,
      "outputs": [
        {
          "output_type": "stream",
          "text": [
            "Enter purchase amount: 50\n",
            "Sales tax is 3.0\n"
          ],
          "name": "stdout"
        }
      ]
    },
    {
      "metadata": {
        "id": "xVfOMkXbB54M",
        "colab_type": "text"
      },
      "cell_type": "markdown",
      "source": [
        "###chapter 2.7\n",
        "ShowCurrentTime.py"
      ]
    },
    {
      "metadata": {
        "id": "dvzMyUIWCOeF",
        "colab_type": "code",
        "colab": {
          "base_uri": "https://localhost:8080/",
          "height": 35
        },
        "outputId": "2b45f680-1844-4163-9c72-2385d9c0d89a"
      },
      "cell_type": "code",
      "source": [
        "import time\n",
        "\n",
        "currentTime = time.time() # Get current time\n",
        "\n",
        "# Obtain the total seconds since midnight, Jan 1, 1970\n",
        "totalSeconds = int(currentTime)\n",
        "\n",
        "# Get the current second \n",
        "currentSecond = totalSeconds % 60 \n",
        "\n",
        "# Obtain the total minutes\n",
        "totalMinutes = totalSeconds // 60 \n",
        "\n",
        "# Compute the current minute in the hour\n",
        "currentMinute = totalMinutes % 60\n",
        "\n",
        "# Obtain the total hours\n",
        "totalHours = totalMinutes // 60\n",
        "\n",
        "# Compute the current hour\n",
        "currentHour = totalHours % 24\n",
        "\n",
        "# Display results\n",
        "print(\"Current time is \" + str(currentHour) + \":\"\n",
        "    + str(currentMinute) + \":\" + str(currentSecond) + \" GMT\")\n",
        "\n",
        "##4070E060"
      ],
      "execution_count": 7,
      "outputs": [
        {
          "output_type": "stream",
          "text": [
            "Current time is 6:56:59 GMT\n"
          ],
          "name": "stdout"
        }
      ]
    }
  ]
}